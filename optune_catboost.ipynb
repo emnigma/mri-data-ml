{
 "cells": [
  {
   "cell_type": "code",
   "execution_count": 1,
   "metadata": {},
   "outputs": [
    {
     "name": "stderr",
     "output_type": "stream",
     "text": [
      "/Users/emax/miniconda3/envs/cs/lib/python3.11/site-packages/tqdm/auto.py:21: TqdmWarning: IProgress not found. Please update jupyter and ipywidgets. See https://ipywidgets.readthedocs.io/en/stable/user_install.html\n",
      "  from .autonotebook import tqdm as notebook_tqdm\n"
     ]
    }
   ],
   "source": [
    "\"\"\"\n",
    "Optuna example that optimizes a classifier configuration for cancer dataset using\n",
    "Catboost.\n",
    "\n",
    "In this example, we optimize the validation accuracy of cancer detection using\n",
    "Catboost. We optimize both the choice of booster model and their hyperparameters.\n",
    "\n",
    "\"\"\"\n",
    "\n",
    "import catboost as cb\n",
    "import numpy as np\n",
    "import optuna\n",
    "from sklearn.metrics import accuracy_score, f1_score\n",
    "from sklearn.model_selection import train_test_split\n",
    "from sklearn.multiclass import OneVsOneClassifier\n",
    "\n",
    "from ml.utils import load_cleaned_dataset, load_dataset, load_picked_dataset\n"
   ]
  },
  {
   "cell_type": "code",
   "execution_count": 2,
   "metadata": {},
   "outputs": [],
   "source": [
    "dataset_loader = load_picked_dataset"
   ]
  },
  {
   "cell_type": "code",
   "execution_count": 3,
   "metadata": {},
   "outputs": [
    {
     "data": {
      "text/plain": [
       "94    -1\n",
       "86     1\n",
       "52     0\n",
       "91     1\n",
       "52    -1\n",
       "      ..\n",
       "81    -1\n",
       "73     1\n",
       "115   -1\n",
       "90    -1\n",
       "66    -1\n",
       "Name: QA, Length: 258, dtype: int64"
      ]
     },
     "execution_count": 3,
     "metadata": {},
     "output_type": "execute_result"
    }
   ],
   "source": [
    "from sklearn.discriminant_analysis import StandardScaler\n",
    "\n",
    "data, target = dataset_loader()\n",
    "train_x, valid_x, train_y, valid_y = train_test_split(\n",
    "    data, target, test_size=0.2, stratify=target\n",
    ")\n",
    "scaler = StandardScaler()\n",
    "train_x = scaler.fit_transform(train_x)\n",
    "valid_x = scaler.transform(valid_x)\n",
    "\n",
    "train_y"
   ]
  },
  {
   "cell_type": "code",
   "execution_count": 4,
   "metadata": {},
   "outputs": [
    {
     "data": {
      "text/plain": [
       "<catboost.core.CatBoostClassifier at 0x13818be90>"
      ]
     },
     "execution_count": 4,
     "metadata": {},
     "output_type": "execute_result"
    }
   ],
   "source": [
    "gbm = cb.CatBoostClassifier(\n",
    "    # objective=\"CrossEntropy\",\n",
    "    colsample_bylevel=0.029118546446743533,\n",
    "    depth=7,\n",
    "    boosting_type=\"Ordered\",\n",
    "    bootstrap_type=\"Bernoulli\",\n",
    "    subsample=0.4292737612906373,\n",
    "    verbose=False,\n",
    "    loss_function=\"MultiClass\",\n",
    ")\n",
    "\n",
    "gbm.fit(train_x, train_y.to_numpy())"
   ]
  },
  {
   "cell_type": "code",
   "execution_count": 5,
   "metadata": {},
   "outputs": [
    {
     "name": "stderr",
     "output_type": "stream",
     "text": [
      "[I 2024-02-14 17:53:14,058] A new study created in memory with name: no-name-d4a4a707-12e2-4f03-9b19-5e133fb80196\n",
      "[I 2024-02-14 17:53:14,354] Trial 0 finished with value: 0.7081391941391941 and parameters: {'colsample_bylevel': 0.037781677532042396, 'depth': 8, 'boosting_type': 'Ordered', 'bootstrap_type': 'Bayesian', 'bagging_temperature': 7.601040367987264}. Best is trial 0 with value: 0.7081391941391941.\n",
      "[I 2024-02-14 17:53:14,624] Trial 1 finished with value: 0.7171428571428571 and parameters: {'colsample_bylevel': 0.030107451114431343, 'depth': 12, 'boosting_type': 'Ordered', 'bootstrap_type': 'MVS'}. Best is trial 1 with value: 0.7171428571428571.\n",
      "[I 2024-02-14 17:53:14,715] Trial 2 finished with value: 0.6968529014844804 and parameters: {'colsample_bylevel': 0.05273666325939153, 'depth': 11, 'boosting_type': 'Plain', 'bootstrap_type': 'Bernoulli', 'subsample': 0.8960790687602236}. Best is trial 1 with value: 0.7171428571428571.\n",
      "[I 2024-02-14 17:53:14,847] Trial 3 finished with value: 0.7177657507327837 and parameters: {'colsample_bylevel': 0.06726529053061173, 'depth': 7, 'boosting_type': 'Plain', 'bootstrap_type': 'Bayesian', 'bagging_temperature': 4.989069240958182}. Best is trial 3 with value: 0.7177657507327837.\n",
      "[I 2024-02-14 17:53:14,927] Trial 4 finished with value: 0.6968529014844804 and parameters: {'colsample_bylevel': 0.03203146007927904, 'depth': 7, 'boosting_type': 'Plain', 'bootstrap_type': 'Bernoulli', 'subsample': 0.8142808760085788}. Best is trial 3 with value: 0.7177657507327837.\n",
      "[I 2024-02-14 17:53:15,212] Trial 5 finished with value: 0.6733426974028479 and parameters: {'colsample_bylevel': 0.028738245257329712, 'depth': 4, 'boosting_type': 'Ordered', 'bootstrap_type': 'Bayesian', 'bagging_temperature': 2.6736355238589993}. Best is trial 3 with value: 0.7177657507327837.\n",
      "[I 2024-02-14 17:53:15,545] Trial 6 finished with value: 0.6839814032121725 and parameters: {'colsample_bylevel': 0.09333815943869052, 'depth': 10, 'boosting_type': 'Plain', 'bootstrap_type': 'Bernoulli', 'subsample': 0.6265475556102478}. Best is trial 3 with value: 0.7177657507327837.\n",
      "[I 2024-02-14 17:53:15,823] Trial 7 finished with value: 0.685629754860524 and parameters: {'colsample_bylevel': 0.08130863953898133, 'depth': 1, 'boosting_type': 'Ordered', 'bootstrap_type': 'MVS'}. Best is trial 3 with value: 0.7177657507327837.\n",
      "[I 2024-02-14 17:53:16,347] Trial 8 finished with value: 0.7621256038647344 and parameters: {'colsample_bylevel': 0.07850096265660195, 'depth': 6, 'boosting_type': 'Ordered', 'bootstrap_type': 'MVS'}. Best is trial 8 with value: 0.7621256038647344.\n",
      "[I 2024-02-14 17:53:16,447] Trial 9 finished with value: 0.7603423252089485 and parameters: {'colsample_bylevel': 0.09450850355541873, 'depth': 2, 'boosting_type': 'Plain', 'bootstrap_type': 'Bayesian', 'bagging_temperature': 4.679824595956639}. Best is trial 8 with value: 0.7621256038647344.\n",
      "[I 2024-02-14 17:53:16,882] Trial 10 finished with value: 0.7124982963063922 and parameters: {'colsample_bylevel': 0.06963855381791326, 'depth': 4, 'boosting_type': 'Ordered', 'bootstrap_type': 'MVS'}. Best is trial 8 with value: 0.7621256038647344.\n",
      "[I 2024-02-14 17:53:16,966] Trial 11 finished with value: 0.7183009298393913 and parameters: {'colsample_bylevel': 0.09711854739356747, 'depth': 1, 'boosting_type': 'Plain', 'bootstrap_type': 'Bayesian', 'bagging_temperature': 0.5106873600939599}. Best is trial 8 with value: 0.7621256038647344.\n",
      "[I 2024-02-14 17:53:17,456] Trial 12 finished with value: 0.7375990439820227 and parameters: {'colsample_bylevel': 0.08133203411402476, 'depth': 4, 'boosting_type': 'Ordered', 'bootstrap_type': 'MVS'}. Best is trial 8 with value: 0.7621256038647344.\n",
      "[I 2024-02-14 17:53:17,562] Trial 13 finished with value: 0.7056291620121407 and parameters: {'colsample_bylevel': 0.08358097843351739, 'depth': 3, 'boosting_type': 'Plain', 'bootstrap_type': 'MVS'}. Best is trial 8 with value: 0.7621256038647344.\n",
      "[I 2024-02-14 17:53:17,683] Trial 14 finished with value: 0.6492620251883476 and parameters: {'colsample_bylevel': 0.06303288770399113, 'depth': 9, 'boosting_type': 'Plain', 'bootstrap_type': 'Bayesian', 'bagging_temperature': 9.152189464977418}. Best is trial 8 with value: 0.7621256038647344.\n",
      "[I 2024-02-14 17:53:17,931] Trial 15 finished with value: 0.7194733542319749 and parameters: {'colsample_bylevel': 0.01355782644121497, 'depth': 6, 'boosting_type': 'Ordered', 'bootstrap_type': 'Bayesian', 'bagging_temperature': 5.2503658327290585}. Best is trial 8 with value: 0.7621256038647344.\n",
      "[I 2024-02-14 17:53:18,276] Trial 16 finished with value: 0.7449952237919957 and parameters: {'colsample_bylevel': 0.09062436512436871, 'depth': 2, 'boosting_type': 'Ordered', 'bootstrap_type': 'MVS'}. Best is trial 8 with value: 0.7621256038647344.\n",
      "[I 2024-02-14 17:53:18,398] Trial 17 finished with value: 0.6617759784075574 and parameters: {'colsample_bylevel': 0.07472938714953944, 'depth': 5, 'boosting_type': 'Plain', 'bootstrap_type': 'Bayesian', 'bagging_temperature': 5.126363759959786}. Best is trial 8 with value: 0.7621256038647344.\n",
      "[I 2024-02-14 17:53:18,750] Trial 18 finished with value: 0.7183009298393913 and parameters: {'colsample_bylevel': 0.05209581629270919, 'depth': 6, 'boosting_type': 'Ordered', 'bootstrap_type': 'MVS'}. Best is trial 8 with value: 0.7621256038647344.\n",
      "[I 2024-02-14 17:53:18,849] Trial 19 finished with value: 0.7170882007991147 and parameters: {'colsample_bylevel': 0.09052757626161285, 'depth': 2, 'boosting_type': 'Plain', 'bootstrap_type': 'Bernoulli', 'subsample': 0.14011238359467726}. Best is trial 8 with value: 0.7621256038647344.\n",
      "[I 2024-02-14 17:53:19,136] Trial 20 finished with value: 0.6949635627530364 and parameters: {'colsample_bylevel': 0.09966497823715524, 'depth': 9, 'boosting_type': 'Plain', 'bootstrap_type': 'MVS'}. Best is trial 8 with value: 0.7621256038647344.\n",
      "[I 2024-02-14 17:53:19,478] Trial 21 finished with value: 0.7636261824619913 and parameters: {'colsample_bylevel': 0.08702891772617198, 'depth': 2, 'boosting_type': 'Ordered', 'bootstrap_type': 'MVS'}. Best is trial 21 with value: 0.7636261824619913.\n",
      "[I 2024-02-14 17:53:19,866] Trial 22 finished with value: 0.7056291620121407 and parameters: {'colsample_bylevel': 0.08446111805512528, 'depth': 3, 'boosting_type': 'Ordered', 'bootstrap_type': 'MVS'}. Best is trial 21 with value: 0.7636261824619913.\n",
      "[I 2024-02-14 17:53:20,183] Trial 23 finished with value: 0.7256998320828107 and parameters: {'colsample_bylevel': 0.07239856435032371, 'depth': 2, 'boosting_type': 'Ordered', 'bootstrap_type': 'MVS'}. Best is trial 21 with value: 0.7636261824619913.\n",
      "[I 2024-02-14 17:53:20,545] Trial 24 finished with value: 0.692809364548495 and parameters: {'colsample_bylevel': 0.06131304615153491, 'depth': 5, 'boosting_type': 'Ordered', 'bootstrap_type': 'MVS'}. Best is trial 21 with value: 0.7636261824619913.\n",
      "[I 2024-02-14 17:53:20,909] Trial 25 finished with value: 0.6955986229471189 and parameters: {'colsample_bylevel': 0.07860302014553328, 'depth': 3, 'boosting_type': 'Ordered', 'bootstrap_type': 'Bayesian', 'bagging_temperature': 2.562288524660157}. Best is trial 21 with value: 0.7636261824619913.\n",
      "[I 2024-02-14 17:53:21,189] Trial 26 finished with value: 0.6968529014844804 and parameters: {'colsample_bylevel': 0.08561122907674981, 'depth': 1, 'boosting_type': 'Ordered', 'bootstrap_type': 'MVS'}. Best is trial 21 with value: 0.7636261824619913.\n",
      "[I 2024-02-14 17:53:21,709] Trial 27 finished with value: 0.7314703332094636 and parameters: {'colsample_bylevel': 0.09115957819532099, 'depth': 5, 'boosting_type': 'Ordered', 'bootstrap_type': 'MVS'}. Best is trial 21 with value: 0.7636261824619913.\n",
      "[I 2024-02-14 17:53:21,794] Trial 28 finished with value: 0.7196592149269495 and parameters: {'colsample_bylevel': 0.058740331422855334, 'depth': 2, 'boosting_type': 'Plain', 'bootstrap_type': 'Bernoulli', 'subsample': 0.1044843521868693}. Best is trial 21 with value: 0.7636261824619913.\n",
      "[I 2024-02-14 17:53:22,148] Trial 29 finished with value: 0.7081391941391941 and parameters: {'colsample_bylevel': 0.04782966829155094, 'depth': 8, 'boosting_type': 'Ordered', 'bootstrap_type': 'Bayesian', 'bagging_temperature': 7.330317051637575}. Best is trial 21 with value: 0.7636261824619913.\n",
      "[I 2024-02-14 17:53:22,557] Trial 30 finished with value: 0.7241280458671763 and parameters: {'colsample_bylevel': 0.09457412167045763, 'depth': 3, 'boosting_type': 'Ordered', 'bootstrap_type': 'Bayesian', 'bagging_temperature': 2.7223869462476955}. Best is trial 21 with value: 0.7636261824619913.\n",
      "[I 2024-02-14 17:53:22,883] Trial 31 finished with value: 0.7256998320828107 and parameters: {'colsample_bylevel': 0.0879928325772422, 'depth': 2, 'boosting_type': 'Ordered', 'bootstrap_type': 'MVS'}. Best is trial 21 with value: 0.7636261824619913.\n",
      "[I 2024-02-14 17:53:23,161] Trial 32 finished with value: 0.6968529014844804 and parameters: {'colsample_bylevel': 0.07641224553698758, 'depth': 1, 'boosting_type': 'Ordered', 'bootstrap_type': 'MVS'}. Best is trial 21 with value: 0.7636261824619913.\n",
      "[I 2024-02-14 17:53:23,497] Trial 33 finished with value: 0.7256998320828107 and parameters: {'colsample_bylevel': 0.09887812003701646, 'depth': 2, 'boosting_type': 'Ordered', 'bootstrap_type': 'MVS'}. Best is trial 21 with value: 0.7636261824619913.\n",
      "[I 2024-02-14 17:53:25,590] Trial 34 finished with value: 0.7636261824619913 and parameters: {'colsample_bylevel': 0.08872485470860829, 'depth': 12, 'boosting_type': 'Ordered', 'bootstrap_type': 'MVS'}. Best is trial 21 with value: 0.7636261824619913.\n",
      "[I 2024-02-14 17:53:27,517] Trial 35 finished with value: 0.7636261824619913 and parameters: {'colsample_bylevel': 0.08718285361070999, 'depth': 12, 'boosting_type': 'Ordered', 'bootstrap_type': 'MVS'}. Best is trial 21 with value: 0.7636261824619913.\n",
      "[I 2024-02-14 17:53:28,504] Trial 36 finished with value: 0.692405466873552 and parameters: {'colsample_bylevel': 0.0684477560059795, 'depth': 12, 'boosting_type': 'Ordered', 'bootstrap_type': 'MVS'}. Best is trial 21 with value: 0.7636261824619913.\n",
      "[I 2024-02-14 17:53:29,526] Trial 37 finished with value: 0.7256998320828107 and parameters: {'colsample_bylevel': 0.07806168680872533, 'depth': 12, 'boosting_type': 'Ordered', 'bootstrap_type': 'MVS'}. Best is trial 21 with value: 0.7636261824619913.\n",
      "[I 2024-02-14 17:53:31,235] Trial 38 finished with value: 0.7449952237919957 and parameters: {'colsample_bylevel': 0.08827825752034574, 'depth': 11, 'boosting_type': 'Ordered', 'bootstrap_type': 'MVS'}. Best is trial 21 with value: 0.7636261824619913.\n",
      "[I 2024-02-14 17:53:31,824] Trial 39 finished with value: 0.7449952237919957 and parameters: {'colsample_bylevel': 0.06502698359106521, 'depth': 11, 'boosting_type': 'Ordered', 'bootstrap_type': 'Bernoulli', 'subsample': 0.40581381723115906}. Best is trial 21 with value: 0.7636261824619913.\n",
      "[I 2024-02-14 17:53:33,087] Trial 40 finished with value: 0.7256998320828107 and parameters: {'colsample_bylevel': 0.07383313986003405, 'depth': 11, 'boosting_type': 'Ordered', 'bootstrap_type': 'MVS'}. Best is trial 21 with value: 0.7636261824619913.\n",
      "[I 2024-02-14 17:53:33,440] Trial 41 finished with value: 0.6601943676279699 and parameters: {'colsample_bylevel': 0.09697033676741192, 'depth': 10, 'boosting_type': 'Plain', 'bootstrap_type': 'MVS'}. Best is trial 21 with value: 0.7636261824619913.\n",
      "[I 2024-02-14 17:53:35,025] Trial 42 finished with value: 0.7375990439820227 and parameters: {'colsample_bylevel': 0.0937863087172901, 'depth': 10, 'boosting_type': 'Ordered', 'bootstrap_type': 'Bayesian', 'bagging_temperature': 6.825043651715525}. Best is trial 21 with value: 0.7636261824619913.\n",
      "[I 2024-02-14 17:53:35,181] Trial 43 finished with value: 0.7373737373737373 and parameters: {'colsample_bylevel': 0.0809305463846982, 'depth': 7, 'boosting_type': 'Plain', 'bootstrap_type': 'MVS'}. Best is trial 21 with value: 0.7636261824619913.\n",
      "[I 2024-02-14 17:53:35,984] Trial 44 finished with value: 0.7170882007991147 and parameters: {'colsample_bylevel': 0.0869218475687653, 'depth': 8, 'boosting_type': 'Ordered', 'bootstrap_type': 'Bernoulli', 'subsample': 0.42252650727618796}. Best is trial 21 with value: 0.7636261824619913.\n",
      "[I 2024-02-14 17:53:36,167] Trial 45 finished with value: 0.7056291620121407 and parameters: {'colsample_bylevel': 0.08276897867951756, 'depth': 9, 'boosting_type': 'Plain', 'bootstrap_type': 'MVS'}. Best is trial 21 with value: 0.7636261824619913.\n",
      "[I 2024-02-14 17:53:36,462] Trial 46 finished with value: 0.6968529014844804 and parameters: {'colsample_bylevel': 0.0419706660910485, 'depth': 12, 'boosting_type': 'Ordered', 'bootstrap_type': 'Bayesian', 'bagging_temperature': 0.716876383171555}. Best is trial 21 with value: 0.7636261824619913.\n",
      "[I 2024-02-14 17:53:36,587] Trial 47 finished with value: 0.7509721048182586 and parameters: {'colsample_bylevel': 0.09488689673659761, 'depth': 4, 'boosting_type': 'Plain', 'bootstrap_type': 'MVS'}. Best is trial 21 with value: 0.7636261824619913.\n",
      "[I 2024-02-14 17:53:37,300] Trial 48 finished with value: 0.7166525781910397 and parameters: {'colsample_bylevel': 0.09113282019644502, 'depth': 7, 'boosting_type': 'Ordered', 'bootstrap_type': 'Bayesian', 'bagging_temperature': 9.951645665478878}. Best is trial 21 with value: 0.7636261824619913.\n",
      "[I 2024-02-14 17:53:37,690] Trial 49 finished with value: 0.7256998320828107 and parameters: {'colsample_bylevel': 0.07068673803839398, 'depth': 4, 'boosting_type': 'Ordered', 'bootstrap_type': 'MVS'}. Best is trial 21 with value: 0.7636261824619913.\n",
      "[I 2024-02-14 17:53:37,765] Trial 50 finished with value: 0.6626875981161695 and parameters: {'colsample_bylevel': 0.02099595146634358, 'depth': 11, 'boosting_type': 'Plain', 'bootstrap_type': 'MVS'}. Best is trial 21 with value: 0.7636261824619913.\n",
      "[I 2024-02-14 17:53:37,893] Trial 51 finished with value: 0.7166525781910397 and parameters: {'colsample_bylevel': 0.09656424614615233, 'depth': 4, 'boosting_type': 'Plain', 'bootstrap_type': 'MVS'}. Best is trial 21 with value: 0.7636261824619913.\n",
      "[I 2024-02-14 17:53:38,052] Trial 52 finished with value: 0.7166525781910397 and parameters: {'colsample_bylevel': 0.09420273304089026, 'depth': 6, 'boosting_type': 'Plain', 'bootstrap_type': 'MVS'}. Best is trial 21 with value: 0.7636261824619913.\n",
      "[I 2024-02-14 17:53:38,187] Trial 53 finished with value: 0.6949635627530364 and parameters: {'colsample_bylevel': 0.08791018206204862, 'depth': 5, 'boosting_type': 'Plain', 'bootstrap_type': 'MVS'}. Best is trial 21 with value: 0.7636261824619913.\n",
      "[I 2024-02-14 17:53:38,324] Trial 54 finished with value: 0.6949635627530364 and parameters: {'colsample_bylevel': 0.08011324558054705, 'depth': 6, 'boosting_type': 'Plain', 'bootstrap_type': 'MVS'}. Best is trial 21 with value: 0.7636261824619913.\n",
      "[I 2024-02-14 17:53:38,442] Trial 55 finished with value: 0.7584045584045584 and parameters: {'colsample_bylevel': 0.09996728738930855, 'depth': 3, 'boosting_type': 'Plain', 'bootstrap_type': 'MVS'}. Best is trial 21 with value: 0.7636261824619913.\n",
      "[I 2024-02-14 17:53:38,555] Trial 56 finished with value: 0.6721485411140584 and parameters: {'colsample_bylevel': 0.09887759616904906, 'depth': 3, 'boosting_type': 'Plain', 'bootstrap_type': 'Bernoulli', 'subsample': 0.9801342769519267}. Best is trial 21 with value: 0.7636261824619913.\n",
      "[I 2024-02-14 17:53:38,824] Trial 57 finished with value: 0.6742705570291777 and parameters: {'colsample_bylevel': 0.08452008442937552, 'depth': 1, 'boosting_type': 'Ordered', 'bootstrap_type': 'Bayesian', 'bagging_temperature': 4.096515619175553}. Best is trial 21 with value: 0.7636261824619913.\n",
      "[I 2024-02-14 17:53:40,595] Trial 58 finished with value: 0.7572682636512424 and parameters: {'colsample_bylevel': 0.0914046273548518, 'depth': 10, 'boosting_type': 'Ordered', 'bootstrap_type': 'MVS'}. Best is trial 21 with value: 0.7636261824619913.\n",
      "[I 2024-02-14 17:53:40,789] Trial 59 finished with value: 0.7073507945688398 and parameters: {'colsample_bylevel': 0.0890494885554097, 'depth': 8, 'boosting_type': 'Plain', 'bootstrap_type': 'MVS'}. Best is trial 21 with value: 0.7636261824619913.\n",
      "[I 2024-02-14 17:53:41,179] Trial 60 finished with value: 0.6839814032121725 and parameters: {'colsample_bylevel': 0.08399157226898045, 'depth': 3, 'boosting_type': 'Ordered', 'bootstrap_type': 'Bayesian', 'bagging_temperature': 6.33321898939984}. Best is trial 21 with value: 0.7636261824619913.\n",
      "[I 2024-02-14 17:53:42,958] Trial 61 finished with value: 0.7449952237919957 and parameters: {'colsample_bylevel': 0.0921912797659731, 'depth': 10, 'boosting_type': 'Ordered', 'bootstrap_type': 'MVS'}. Best is trial 21 with value: 0.7636261824619913.\n",
      "[I 2024-02-14 17:53:47,457] Trial 62 finished with value: 0.7435282904101688 and parameters: {'colsample_bylevel': 0.09935484182261102, 'depth': 12, 'boosting_type': 'Ordered', 'bootstrap_type': 'MVS'}. Best is trial 21 with value: 0.7636261824619913.\n",
      "[I 2024-02-14 17:53:47,806] Trial 63 finished with value: 0.7636261824619913 and parameters: {'colsample_bylevel': 0.09180521088362675, 'depth': 2, 'boosting_type': 'Ordered', 'bootstrap_type': 'MVS'}. Best is trial 21 with value: 0.7636261824619913.\n",
      "[I 2024-02-14 17:53:48,144] Trial 64 finished with value: 0.7449952237919957 and parameters: {'colsample_bylevel': 0.08623038893069339, 'depth': 2, 'boosting_type': 'Ordered', 'bootstrap_type': 'MVS'}. Best is trial 21 with value: 0.7636261824619913.\n",
      "[I 2024-02-14 17:53:48,425] Trial 65 finished with value: 0.6968529014844804 and parameters: {'colsample_bylevel': 0.09540280712092429, 'depth': 1, 'boosting_type': 'Ordered', 'bootstrap_type': 'MVS'}. Best is trial 21 with value: 0.7636261824619913.\n",
      "[I 2024-02-14 17:53:48,812] Trial 66 finished with value: 0.692809364548495 and parameters: {'colsample_bylevel': 0.08187777518033437, 'depth': 3, 'boosting_type': 'Ordered', 'bootstrap_type': 'MVS'}. Best is trial 21 with value: 0.7636261824619913.\n",
      "[I 2024-02-14 17:53:49,134] Trial 67 finished with value: 0.7256998320828107 and parameters: {'colsample_bylevel': 0.07652255372648398, 'depth': 2, 'boosting_type': 'Ordered', 'bootstrap_type': 'MVS'}. Best is trial 21 with value: 0.7636261824619913.\n",
      "[I 2024-02-14 17:53:49,234] Trial 68 finished with value: 0.7137740822260266 and parameters: {'colsample_bylevel': 0.08976705595632375, 'depth': 2, 'boosting_type': 'Plain', 'bootstrap_type': 'MVS'}. Best is trial 21 with value: 0.7636261824619913.\n",
      "[I 2024-02-14 17:53:49,514] Trial 69 finished with value: 0.7517713056174594 and parameters: {'colsample_bylevel': 0.09277637929143187, 'depth': 1, 'boosting_type': 'Ordered', 'bootstrap_type': 'Bernoulli', 'subsample': 0.7013056460407066}. Best is trial 21 with value: 0.7636261824619913.\n",
      "[I 2024-02-14 17:53:49,799] Trial 70 finished with value: 0.7201048312301509 and parameters: {'colsample_bylevel': 0.03445664209484632, 'depth': 5, 'boosting_type': 'Ordered', 'bootstrap_type': 'Bayesian', 'bagging_temperature': 8.585514138718178}. Best is trial 21 with value: 0.7636261824619913.\n",
      "[I 2024-02-14 17:53:51,977] Trial 71 finished with value: 0.7636261824619913 and parameters: {'colsample_bylevel': 0.09156985179210601, 'depth': 12, 'boosting_type': 'Ordered', 'bootstrap_type': 'MVS'}. Best is trial 21 with value: 0.7636261824619913.\n",
      "[I 2024-02-14 17:53:55,739] Trial 72 finished with value: 0.7572682636512424 and parameters: {'colsample_bylevel': 0.09706510487114181, 'depth': 12, 'boosting_type': 'Ordered', 'bootstrap_type': 'MVS'}. Best is trial 21 with value: 0.7636261824619913.\n",
      "[I 2024-02-14 17:53:57,870] Trial 73 finished with value: 0.7636261824619913 and parameters: {'colsample_bylevel': 0.08511184004986407, 'depth': 12, 'boosting_type': 'Ordered', 'bootstrap_type': 'MVS'}. Best is trial 21 with value: 0.7636261824619913.\n",
      "[I 2024-02-14 17:53:59,166] Trial 74 finished with value: 0.7816917310027494 and parameters: {'colsample_bylevel': 0.0790021398168851, 'depth': 12, 'boosting_type': 'Ordered', 'bootstrap_type': 'MVS'}. Best is trial 74 with value: 0.7816917310027494.\n",
      "[I 2024-02-14 17:54:00,204] Trial 75 finished with value: 0.7498274833742826 and parameters: {'colsample_bylevel': 0.07909380840495552, 'depth': 11, 'boosting_type': 'Ordered', 'bootstrap_type': 'MVS'}. Best is trial 74 with value: 0.7816917310027494.\n",
      "[I 2024-02-14 17:54:01,755] Trial 76 finished with value: 0.7254375254375254 and parameters: {'colsample_bylevel': 0.07577217915549538, 'depth': 12, 'boosting_type': 'Ordered', 'bootstrap_type': 'MVS'}. Best is trial 74 with value: 0.7816917310027494.\n",
      "[I 2024-02-14 17:54:04,031] Trial 77 finished with value: 0.7636261824619913 and parameters: {'colsample_bylevel': 0.08649051609905359, 'depth': 12, 'boosting_type': 'Ordered', 'bootstrap_type': 'MVS'}. Best is trial 74 with value: 0.7816917310027494.\n",
      "[I 2024-02-14 17:54:06,286] Trial 78 finished with value: 0.7636261824619913 and parameters: {'colsample_bylevel': 0.08623859488206861, 'depth': 12, 'boosting_type': 'Ordered', 'bootstrap_type': 'MVS'}. Best is trial 74 with value: 0.7816917310027494.\n",
      "[I 2024-02-14 17:54:07,629] Trial 79 finished with value: 0.7762163653579648 and parameters: {'colsample_bylevel': 0.08349075151602355, 'depth': 11, 'boosting_type': 'Ordered', 'bootstrap_type': 'MVS'}. Best is trial 74 with value: 0.7816917310027494.\n",
      "[I 2024-02-14 17:54:09,007] Trial 80 finished with value: 0.7256998320828107 and parameters: {'colsample_bylevel': 0.07225911576443456, 'depth': 11, 'boosting_type': 'Ordered', 'bootstrap_type': 'MVS'}. Best is trial 74 with value: 0.7816917310027494.\n",
      "[I 2024-02-14 17:54:11,482] Trial 81 finished with value: 0.7621256038647344 and parameters: {'colsample_bylevel': 0.08428934915611438, 'depth': 12, 'boosting_type': 'Ordered', 'bootstrap_type': 'MVS'}. Best is trial 74 with value: 0.7816917310027494.\n",
      "[I 2024-02-14 17:54:13,082] Trial 82 finished with value: 0.7636261824619913 and parameters: {'colsample_bylevel': 0.08202648885567827, 'depth': 12, 'boosting_type': 'Ordered', 'bootstrap_type': 'MVS'}. Best is trial 74 with value: 0.7816917310027494.\n",
      "[I 2024-02-14 17:54:14,960] Trial 83 finished with value: 0.7636261824619913 and parameters: {'colsample_bylevel': 0.08834720654522522, 'depth': 11, 'boosting_type': 'Ordered', 'bootstrap_type': 'MVS'}. Best is trial 74 with value: 0.7816917310027494.\n",
      "[I 2024-02-14 17:54:16,733] Trial 84 finished with value: 0.7621256038647344 and parameters: {'colsample_bylevel': 0.08670000318500763, 'depth': 11, 'boosting_type': 'Ordered', 'bootstrap_type': 'MVS'}. Best is trial 74 with value: 0.7816917310027494.\n",
      "[I 2024-02-14 17:54:19,283] Trial 85 finished with value: 0.7762163653579648 and parameters: {'colsample_bylevel': 0.08929202621238826, 'depth': 12, 'boosting_type': 'Ordered', 'bootstrap_type': 'MVS'}. Best is trial 74 with value: 0.7816917310027494.\n",
      "[I 2024-02-14 17:54:21,667] Trial 86 finished with value: 0.7762163653579648 and parameters: {'colsample_bylevel': 0.09008521459946607, 'depth': 12, 'boosting_type': 'Ordered', 'bootstrap_type': 'MVS'}. Best is trial 74 with value: 0.7816917310027494.\n",
      "[I 2024-02-14 17:54:23,636] Trial 87 finished with value: 0.770991970991971 and parameters: {'colsample_bylevel': 0.08974120271193115, 'depth': 11, 'boosting_type': 'Ordered', 'bootstrap_type': 'MVS'}. Best is trial 74 with value: 0.7816917310027494.\n",
      "[I 2024-02-14 17:54:25,518] Trial 88 finished with value: 0.7762163653579648 and parameters: {'colsample_bylevel': 0.08959959804189466, 'depth': 11, 'boosting_type': 'Ordered', 'bootstrap_type': 'MVS'}. Best is trial 74 with value: 0.7816917310027494.\n",
      "[I 2024-02-14 17:54:25,926] Trial 89 finished with value: 0.7314703332094636 and parameters: {'colsample_bylevel': 0.05446354078560847, 'depth': 11, 'boosting_type': 'Ordered', 'bootstrap_type': 'MVS'}. Best is trial 74 with value: 0.7816917310027494.\n",
      "[I 2024-02-14 17:54:27,809] Trial 90 finished with value: 0.7572682636512424 and parameters: {'colsample_bylevel': 0.0892380123396265, 'depth': 11, 'boosting_type': 'Ordered', 'bootstrap_type': 'MVS'}. Best is trial 74 with value: 0.7816917310027494.\n",
      "[I 2024-02-14 17:54:28,932] Trial 91 finished with value: 0.7636261824619913 and parameters: {'colsample_bylevel': 0.08250827128393488, 'depth': 11, 'boosting_type': 'Ordered', 'bootstrap_type': 'MVS'}. Best is trial 74 with value: 0.7816917310027494.\n",
      "[I 2024-02-14 17:54:30,947] Trial 92 finished with value: 0.7572682636512424 and parameters: {'colsample_bylevel': 0.09325410413065702, 'depth': 10, 'boosting_type': 'Ordered', 'bootstrap_type': 'MVS'}. Best is trial 74 with value: 0.7816917310027494.\n",
      "[I 2024-02-14 17:54:32,586] Trial 93 finished with value: 0.7572682636512424 and parameters: {'colsample_bylevel': 0.08032932067180486, 'depth': 12, 'boosting_type': 'Ordered', 'bootstrap_type': 'MVS'}. Best is trial 74 with value: 0.7816917310027494.\n",
      "[I 2024-02-14 17:54:34,497] Trial 94 finished with value: 0.7254375254375254 and parameters: {'colsample_bylevel': 0.09015168770502151, 'depth': 11, 'boosting_type': 'Ordered', 'bootstrap_type': 'MVS'}. Best is trial 74 with value: 0.7816917310027494.\n",
      "[I 2024-02-14 17:54:35,791] Trial 95 finished with value: 0.7449952237919957 and parameters: {'colsample_bylevel': 0.07774561821025366, 'depth': 12, 'boosting_type': 'Ordered', 'bootstrap_type': 'MVS'}. Best is trial 74 with value: 0.7816917310027494.\n",
      "[I 2024-02-14 17:54:40,321] Trial 96 finished with value: 0.7762163653579648 and parameters: {'colsample_bylevel': 0.09636473721358031, 'depth': 12, 'boosting_type': 'Ordered', 'bootstrap_type': 'Bernoulli', 'subsample': 0.30568859276537574}. Best is trial 74 with value: 0.7816917310027494.\n",
      "[I 2024-02-14 17:54:44,800] Trial 97 finished with value: 0.7241280458671763 and parameters: {'colsample_bylevel': 0.09451769892028838, 'depth': 12, 'boosting_type': 'Ordered', 'bootstrap_type': 'Bernoulli', 'subsample': 0.31201038660656255}. Best is trial 74 with value: 0.7816917310027494.\n",
      "[I 2024-02-14 17:54:46,816] Trial 98 finished with value: 0.6716835961516813 and parameters: {'colsample_bylevel': 0.09692880200587081, 'depth': 10, 'boosting_type': 'Ordered', 'bootstrap_type': 'Bernoulli', 'subsample': 0.2740283561248677}. Best is trial 74 with value: 0.7816917310027494.\n",
      "[I 2024-02-14 17:54:49,004] Trial 99 finished with value: 0.7241280458671763 and parameters: {'colsample_bylevel': 0.0881157153156718, 'depth': 11, 'boosting_type': 'Ordered', 'bootstrap_type': 'Bernoulli', 'subsample': 0.51645840868947}. Best is trial 74 with value: 0.7816917310027494.\n",
      "[I 2024-02-14 17:54:51,593] Trial 100 finished with value: 0.7584045584045584 and parameters: {'colsample_bylevel': 0.08992168826507846, 'depth': 12, 'boosting_type': 'Ordered', 'bootstrap_type': 'Bernoulli', 'subsample': 0.25457981937814905}. Best is trial 74 with value: 0.7816917310027494.\n",
      "[I 2024-02-14 17:54:54,724] Trial 101 finished with value: 0.6609475653307635 and parameters: {'colsample_bylevel': 0.08386601106646066, 'depth': 12, 'boosting_type': 'Ordered', 'bootstrap_type': 'Bernoulli', 'subsample': 0.49120191075630726}. Best is trial 74 with value: 0.7816917310027494.\n",
      "[I 2024-02-14 17:54:56,973] Trial 102 finished with value: 0.7375990439820227 and parameters: {'colsample_bylevel': 0.09302904352361455, 'depth': 11, 'boosting_type': 'Ordered', 'bootstrap_type': 'MVS'}. Best is trial 74 with value: 0.7816917310027494.\n",
      "[I 2024-02-14 17:54:58,329] Trial 103 finished with value: 0.7762163653579648 and parameters: {'colsample_bylevel': 0.09123564556035356, 'depth': 9, 'boosting_type': 'Ordered', 'bootstrap_type': 'MVS'}. Best is trial 74 with value: 0.7816917310027494.\n",
      "[I 2024-02-14 17:54:59,737] Trial 104 finished with value: 0.7375990439820227 and parameters: {'colsample_bylevel': 0.09598135034816377, 'depth': 9, 'boosting_type': 'Ordered', 'bootstrap_type': 'MVS'}. Best is trial 74 with value: 0.7816917310027494.\n",
      "[I 2024-02-14 17:55:00,935] Trial 105 finished with value: 0.7434604376133612 and parameters: {'colsample_bylevel': 0.08770880519904793, 'depth': 9, 'boosting_type': 'Ordered', 'bootstrap_type': 'MVS'}. Best is trial 74 with value: 0.7816917310027494.\n",
      "[I 2024-02-14 17:55:01,359] Trial 106 finished with value: 0.7183009298393913 and parameters: {'colsample_bylevel': 0.04667683506127428, 'depth': 11, 'boosting_type': 'Ordered', 'bootstrap_type': 'MVS'}. Best is trial 74 with value: 0.7816917310027494.\n",
      "[I 2024-02-14 17:55:02,737] Trial 107 finished with value: 0.7449577098243331 and parameters: {'colsample_bylevel': 0.0850928001133927, 'depth': 10, 'boosting_type': 'Ordered', 'bootstrap_type': 'MVS'}. Best is trial 74 with value: 0.7816917310027494.\n",
      "[I 2024-02-14 17:55:07,474] Trial 108 finished with value: 0.7621256038647344 and parameters: {'colsample_bylevel': 0.0979978649245101, 'depth': 12, 'boosting_type': 'Ordered', 'bootstrap_type': 'Bernoulli', 'subsample': 0.6625142610097593}. Best is trial 74 with value: 0.7816917310027494.\n",
      "[I 2024-02-14 17:55:09,958] Trial 109 finished with value: 0.7373737373737373 and parameters: {'colsample_bylevel': 0.09021678450852033, 'depth': 12, 'boosting_type': 'Ordered', 'bootstrap_type': 'MVS'}. Best is trial 74 with value: 0.7816917310027494.\n",
      "[I 2024-02-14 17:55:11,817] Trial 110 finished with value: 0.7449952237919957 and parameters: {'colsample_bylevel': 0.09472858739881802, 'depth': 10, 'boosting_type': 'Ordered', 'bootstrap_type': 'MVS'}. Best is trial 74 with value: 0.7816917310027494.\n",
      "[I 2024-02-14 17:55:14,165] Trial 111 finished with value: 0.7373737373737373 and parameters: {'colsample_bylevel': 0.09284290053034439, 'depth': 12, 'boosting_type': 'Ordered', 'bootstrap_type': 'MVS'}. Best is trial 74 with value: 0.7816917310027494.\n",
      "[I 2024-02-14 17:55:16,339] Trial 112 finished with value: 0.7256998320828107 and parameters: {'colsample_bylevel': 0.0917155805695087, 'depth': 11, 'boosting_type': 'Ordered', 'bootstrap_type': 'MVS'}. Best is trial 74 with value: 0.7816917310027494.\n",
      "[I 2024-02-14 17:55:18,715] Trial 113 finished with value: 0.7636261824619913 and parameters: {'colsample_bylevel': 0.08854704079761368, 'depth': 12, 'boosting_type': 'Ordered', 'bootstrap_type': 'MVS'}. Best is trial 74 with value: 0.7816917310027494.\n",
      "[I 2024-02-14 17:55:20,027] Trial 114 finished with value: 0.7636261824619913 and parameters: {'colsample_bylevel': 0.08299230154003245, 'depth': 11, 'boosting_type': 'Ordered', 'bootstrap_type': 'MVS'}. Best is trial 74 with value: 0.7816917310027494.\n",
      "[I 2024-02-14 17:55:20,627] Trial 115 finished with value: 0.7124982963063922 and parameters: {'colsample_bylevel': 0.05959620291567126, 'depth': 12, 'boosting_type': 'Ordered', 'bootstrap_type': 'MVS'}. Best is trial 74 with value: 0.7816917310027494.\n",
      "[I 2024-02-14 17:55:23,161] Trial 116 finished with value: 0.7636261824619913 and parameters: {'colsample_bylevel': 0.09132847649658903, 'depth': 12, 'boosting_type': 'Ordered', 'bootstrap_type': 'MVS'}. Best is trial 74 with value: 0.7816917310027494.\n",
      "[I 2024-02-14 17:55:24,807] Trial 117 finished with value: 0.7636261824619913 and parameters: {'colsample_bylevel': 0.08594709833955518, 'depth': 11, 'boosting_type': 'Ordered', 'bootstrap_type': 'MVS'}. Best is trial 74 with value: 0.7816917310027494.\n",
      "[I 2024-02-14 17:55:29,184] Trial 118 finished with value: 0.7170882007991147 and parameters: {'colsample_bylevel': 0.09575206149230954, 'depth': 12, 'boosting_type': 'Ordered', 'bootstrap_type': 'MVS'}. Best is trial 74 with value: 0.7816917310027494.\n",
      "[I 2024-02-14 17:55:29,480] Trial 119 finished with value: 0.6974505494505494 and parameters: {'colsample_bylevel': 0.023764788757284407, 'depth': 7, 'boosting_type': 'Ordered', 'bootstrap_type': 'MVS'}. Best is trial 74 with value: 0.7816917310027494.\n",
      "[I 2024-02-14 17:55:31,072] Trial 120 finished with value: 0.7636261824619913 and parameters: {'colsample_bylevel': 0.0868694548989652, 'depth': 11, 'boosting_type': 'Ordered', 'bootstrap_type': 'MVS'}. Best is trial 74 with value: 0.7816917310027494.\n",
      "[I 2024-02-14 17:55:33,409] Trial 121 finished with value: 0.7636261824619913 and parameters: {'colsample_bylevel': 0.09181628662083896, 'depth': 12, 'boosting_type': 'Ordered', 'bootstrap_type': 'MVS'}. Best is trial 74 with value: 0.7816917310027494.\n",
      "[I 2024-02-14 17:55:35,786] Trial 122 finished with value: 0.7762163653579648 and parameters: {'colsample_bylevel': 0.09081883763786279, 'depth': 12, 'boosting_type': 'Ordered', 'bootstrap_type': 'MVS'}. Best is trial 74 with value: 0.7816917310027494.\n",
      "[I 2024-02-14 17:55:38,060] Trial 123 finished with value: 0.7762163653579648 and parameters: {'colsample_bylevel': 0.08988362561490641, 'depth': 12, 'boosting_type': 'Ordered', 'bootstrap_type': 'MVS'}. Best is trial 74 with value: 0.7816917310027494.\n",
      "[I 2024-02-14 17:55:38,813] Trial 124 finished with value: 0.7762163653579648 and parameters: {'colsample_bylevel': 0.08097643484544965, 'depth': 8, 'boosting_type': 'Ordered', 'bootstrap_type': 'MVS'}. Best is trial 74 with value: 0.7816917310027494.\n",
      "[I 2024-02-14 17:55:39,569] Trial 125 finished with value: 0.7498274833742826 and parameters: {'colsample_bylevel': 0.08154373532192231, 'depth': 8, 'boosting_type': 'Ordered', 'bootstrap_type': 'MVS'}. Best is trial 74 with value: 0.7816917310027494.\n",
      "[I 2024-02-14 17:55:40,235] Trial 126 finished with value: 0.7572682636512424 and parameters: {'colsample_bylevel': 0.07880817418798938, 'depth': 8, 'boosting_type': 'Ordered', 'bootstrap_type': 'MVS'}. Best is trial 74 with value: 0.7816917310027494.\n",
      "[I 2024-02-14 17:55:41,432] Trial 127 finished with value: 0.7621256038647344 and parameters: {'colsample_bylevel': 0.08404707047918408, 'depth': 10, 'boosting_type': 'Ordered', 'bootstrap_type': 'MVS'}. Best is trial 74 with value: 0.7816917310027494.\n",
      "[I 2024-02-14 17:55:41,954] Trial 128 finished with value: 0.7256998320828107 and parameters: {'colsample_bylevel': 0.0647960026173589, 'depth': 9, 'boosting_type': 'Ordered', 'bootstrap_type': 'Bernoulli', 'subsample': 0.2022781505447001}. Best is trial 74 with value: 0.7816917310027494.\n",
      "[I 2024-02-14 17:55:44,378] Trial 129 finished with value: 0.7572682636512424 and parameters: {'colsample_bylevel': 0.08945033060066765, 'depth': 12, 'boosting_type': 'Ordered', 'bootstrap_type': 'MVS'}. Best is trial 74 with value: 0.7816917310027494.\n",
      "[I 2024-02-14 17:55:46,851] Trial 130 finished with value: 0.7762163653579648 and parameters: {'colsample_bylevel': 0.09385475910950306, 'depth': 11, 'boosting_type': 'Ordered', 'bootstrap_type': 'MVS'}. Best is trial 74 with value: 0.7816917310027494.\n",
      "[I 2024-02-14 17:55:49,119] Trial 131 finished with value: 0.7762163653579648 and parameters: {'colsample_bylevel': 0.09365328377238501, 'depth': 11, 'boosting_type': 'Ordered', 'bootstrap_type': 'MVS'}. Best is trial 74 with value: 0.7816917310027494.\n",
      "[I 2024-02-14 17:55:51,344] Trial 132 finished with value: 0.7762163653579648 and parameters: {'colsample_bylevel': 0.09426182106088682, 'depth': 11, 'boosting_type': 'Ordered', 'bootstrap_type': 'MVS'}. Best is trial 74 with value: 0.7816917310027494.\n",
      "[I 2024-02-14 17:55:53,576] Trial 133 finished with value: 0.7762163653579648 and parameters: {'colsample_bylevel': 0.09431853228921654, 'depth': 11, 'boosting_type': 'Ordered', 'bootstrap_type': 'MVS'}. Best is trial 74 with value: 0.7816917310027494.\n",
      "[I 2024-02-14 17:55:55,467] Trial 134 finished with value: 0.7040179415465456 and parameters: {'colsample_bylevel': 0.0943900070289416, 'depth': 10, 'boosting_type': 'Ordered', 'bootstrap_type': 'MVS'}. Best is trial 74 with value: 0.7816917310027494.\n",
      "[I 2024-02-14 17:55:57,930] Trial 135 finished with value: 0.7572682636512424 and parameters: {'colsample_bylevel': 0.0959317405421683, 'depth': 11, 'boosting_type': 'Ordered', 'bootstrap_type': 'MVS'}. Best is trial 74 with value: 0.7816917310027494.\n",
      "[I 2024-02-14 17:56:00,922] Trial 136 finished with value: 0.7375990439820227 and parameters: {'colsample_bylevel': 0.098053874678121, 'depth': 11, 'boosting_type': 'Ordered', 'bootstrap_type': 'MVS'}. Best is trial 74 with value: 0.7816917310027494.\n",
      "[I 2024-02-14 17:56:03,148] Trial 137 finished with value: 0.7572682636512424 and parameters: {'colsample_bylevel': 0.09354162024686394, 'depth': 11, 'boosting_type': 'Ordered', 'bootstrap_type': 'MVS'}. Best is trial 74 with value: 0.7816917310027494.\n",
      "[I 2024-02-14 17:56:06,598] Trial 138 finished with value: 0.7239738984419837 and parameters: {'colsample_bylevel': 0.0993391988830652, 'depth': 11, 'boosting_type': 'Ordered', 'bootstrap_type': 'MVS'}. Best is trial 74 with value: 0.7816917310027494.\n",
      "[I 2024-02-14 17:56:08,956] Trial 139 finished with value: 0.7166525781910397 and parameters: {'colsample_bylevel': 0.09747258521839212, 'depth': 10, 'boosting_type': 'Ordered', 'bootstrap_type': 'MVS'}. Best is trial 74 with value: 0.7816917310027494.\n",
      "[I 2024-02-14 17:56:10,869] Trial 140 finished with value: 0.7375990439820227 and parameters: {'colsample_bylevel': 0.09271322307484854, 'depth': 10, 'boosting_type': 'Ordered', 'bootstrap_type': 'MVS'}. Best is trial 74 with value: 0.7816917310027494.\n",
      "[I 2024-02-14 17:56:12,889] Trial 141 finished with value: 0.7902319902319903 and parameters: {'colsample_bylevel': 0.08977454701154623, 'depth': 11, 'boosting_type': 'Ordered', 'bootstrap_type': 'MVS'}. Best is trial 141 with value: 0.7902319902319903.\n",
      "[I 2024-02-14 17:56:15,056] Trial 142 finished with value: 0.7572682636512424 and parameters: {'colsample_bylevel': 0.09492690792663253, 'depth': 11, 'boosting_type': 'Ordered', 'bootstrap_type': 'MVS'}. Best is trial 141 with value: 0.7902319902319903.\n",
      "[I 2024-02-14 17:56:15,317] Trial 143 finished with value: 0.7639340659340659 and parameters: {'colsample_bylevel': 0.010763439123438988, 'depth': 12, 'boosting_type': 'Ordered', 'bootstrap_type': 'MVS'}. Best is trial 141 with value: 0.7902319902319903.\n",
      "[I 2024-02-14 17:56:17,296] Trial 144 finished with value: 0.7762163653579648 and parameters: {'colsample_bylevel': 0.0905418832656741, 'depth': 11, 'boosting_type': 'Ordered', 'bootstrap_type': 'MVS'}. Best is trial 141 with value: 0.7902319902319903.\n",
      "[I 2024-02-14 17:56:19,501] Trial 145 finished with value: 0.7572682636512424 and parameters: {'colsample_bylevel': 0.09373129043799683, 'depth': 11, 'boosting_type': 'Ordered', 'bootstrap_type': 'Bayesian', 'bagging_temperature': 1.3641368390434394}. Best is trial 141 with value: 0.7902319902319903.\n",
      "[I 2024-02-14 17:56:21,622] Trial 146 finished with value: 0.7449952237919957 and parameters: {'colsample_bylevel': 0.08797685473118337, 'depth': 12, 'boosting_type': 'Ordered', 'bootstrap_type': 'MVS'}. Best is trial 141 with value: 0.7902319902319903.\n",
      "[I 2024-02-14 17:56:22,778] Trial 147 finished with value: 0.7241280458671763 and parameters: {'colsample_bylevel': 0.09088285485764203, 'depth': 9, 'boosting_type': 'Ordered', 'bootstrap_type': 'Bernoulli', 'subsample': 0.3819510802616516}. Best is trial 141 with value: 0.7902319902319903.\n",
      "[I 2024-02-14 17:56:26,320] Trial 148 finished with value: 0.7572682636512424 and parameters: {'colsample_bylevel': 0.09681639297575617, 'depth': 12, 'boosting_type': 'Ordered', 'bootstrap_type': 'MVS'}. Best is trial 141 with value: 0.7902319902319903.\n",
      "[I 2024-02-14 17:56:28,515] Trial 149 finished with value: 0.7375990439820227 and parameters: {'colsample_bylevel': 0.09299707075566614, 'depth': 11, 'boosting_type': 'Ordered', 'bootstrap_type': 'MVS'}. Best is trial 141 with value: 0.7902319902319903.\n",
      "[I 2024-02-14 17:56:32,322] Trial 150 finished with value: 0.7170882007991147 and parameters: {'colsample_bylevel': 0.09555334722236346, 'depth': 12, 'boosting_type': 'Ordered', 'bootstrap_type': 'MVS'}. Best is trial 141 with value: 0.7902319902319903.\n",
      "[I 2024-02-14 17:56:34,335] Trial 151 finished with value: 0.7572682636512424 and parameters: {'colsample_bylevel': 0.09085110660992281, 'depth': 11, 'boosting_type': 'Ordered', 'bootstrap_type': 'MVS'}. Best is trial 141 with value: 0.7902319902319903.\n",
      "[I 2024-02-14 17:56:36,204] Trial 152 finished with value: 0.7762163653579648 and parameters: {'colsample_bylevel': 0.08942383189058246, 'depth': 11, 'boosting_type': 'Ordered', 'bootstrap_type': 'MVS'}. Best is trial 141 with value: 0.7902319902319903.\n",
      "[I 2024-02-14 17:56:37,846] Trial 153 finished with value: 0.7636261824619913 and parameters: {'colsample_bylevel': 0.08633448827906053, 'depth': 11, 'boosting_type': 'Ordered', 'bootstrap_type': 'MVS'}. Best is trial 141 with value: 0.7902319902319903.\n",
      "[I 2024-02-14 17:56:39,997] Trial 154 finished with value: 0.7636261824619913 and parameters: {'colsample_bylevel': 0.091898350223217, 'depth': 12, 'boosting_type': 'Ordered', 'bootstrap_type': 'MVS'}. Best is trial 141 with value: 0.7902319902319903.\n",
      "[I 2024-02-14 17:56:41,433] Trial 155 finished with value: 0.7375990439820227 and parameters: {'colsample_bylevel': 0.08882489497004226, 'depth': 10, 'boosting_type': 'Ordered', 'bootstrap_type': 'MVS'}. Best is trial 141 with value: 0.7902319902319903.\n",
      "[I 2024-02-14 17:56:44,448] Trial 156 finished with value: 0.7166525781910397 and parameters: {'colsample_bylevel': 0.09986789377388064, 'depth': 11, 'boosting_type': 'Ordered', 'bootstrap_type': 'MVS'}. Best is trial 141 with value: 0.7902319902319903.\n",
      "[I 2024-02-14 17:56:47,139] Trial 157 finished with value: 0.7572682636512424 and parameters: {'colsample_bylevel': 0.09412623333982095, 'depth': 12, 'boosting_type': 'Ordered', 'bootstrap_type': 'MVS'}. Best is trial 141 with value: 0.7902319902319903.\n",
      "[I 2024-02-14 17:56:49,742] Trial 158 finished with value: 0.7636261824619913 and parameters: {'colsample_bylevel': 0.08532740371298006, 'depth': 12, 'boosting_type': 'Ordered', 'bootstrap_type': 'MVS'}. Best is trial 141 with value: 0.7902319902319903.\n",
      "[I 2024-02-14 17:56:51,997] Trial 159 finished with value: 0.7375990439820227 and parameters: {'colsample_bylevel': 0.09092801018536296, 'depth': 11, 'boosting_type': 'Ordered', 'bootstrap_type': 'Bernoulli', 'subsample': 0.7594417201735004}. Best is trial 141 with value: 0.7902319902319903.\n",
      "[I 2024-02-14 17:56:54,365] Trial 160 finished with value: 0.7375990439820227 and parameters: {'colsample_bylevel': 0.09793767983954565, 'depth': 10, 'boosting_type': 'Ordered', 'bootstrap_type': 'MVS'}. Best is trial 141 with value: 0.7902319902319903.\n",
      "[I 2024-02-14 17:56:56,172] Trial 161 finished with value: 0.7375990439820227 and parameters: {'colsample_bylevel': 0.08901595134729118, 'depth': 11, 'boosting_type': 'Ordered', 'bootstrap_type': 'MVS'}. Best is trial 141 with value: 0.7902319902319903.\n",
      "[I 2024-02-14 17:56:58,025] Trial 162 finished with value: 0.7636261824619913 and parameters: {'colsample_bylevel': 0.08994934812251773, 'depth': 11, 'boosting_type': 'Ordered', 'bootstrap_type': 'MVS'}. Best is trial 141 with value: 0.7902319902319903.\n",
      "[I 2024-02-14 17:56:59,688] Trial 163 finished with value: 0.7572682636512424 and parameters: {'colsample_bylevel': 0.08749779032664524, 'depth': 11, 'boosting_type': 'Ordered', 'bootstrap_type': 'MVS'}. Best is trial 141 with value: 0.7902319902319903.\n",
      "[I 2024-02-14 17:57:01,902] Trial 164 finished with value: 0.7256998320828107 and parameters: {'colsample_bylevel': 0.0926639555695921, 'depth': 11, 'boosting_type': 'Ordered', 'bootstrap_type': 'MVS'}. Best is trial 141 with value: 0.7902319902319903.\n",
      "[I 2024-02-14 17:57:05,613] Trial 165 finished with value: 0.7375990439820227 and parameters: {'colsample_bylevel': 0.09551931089017894, 'depth': 12, 'boosting_type': 'Ordered', 'bootstrap_type': 'MVS'}. Best is trial 141 with value: 0.7902319902319903.\n",
      "[I 2024-02-14 17:57:06,587] Trial 166 finished with value: 0.7762163653579648 and parameters: {'colsample_bylevel': 0.08013861271827173, 'depth': 12, 'boosting_type': 'Ordered', 'bootstrap_type': 'MVS'}. Best is trial 141 with value: 0.7902319902319903.\n",
      "[I 2024-02-14 17:57:08,533] Trial 167 finished with value: 0.7572682636512424 and parameters: {'colsample_bylevel': 0.0903431660004935, 'depth': 11, 'boosting_type': 'Ordered', 'bootstrap_type': 'MVS'}. Best is trial 141 with value: 0.7902319902319903.\n",
      "[I 2024-02-14 17:57:10,347] Trial 168 finished with value: 0.7498274833742826 and parameters: {'colsample_bylevel': 0.08562727217168513, 'depth': 11, 'boosting_type': 'Ordered', 'bootstrap_type': 'MVS'}. Best is trial 141 with value: 0.7902319902319903.\n",
      "[I 2024-02-14 17:57:10,928] Trial 169 finished with value: 0.7816917310027494 and parameters: {'colsample_bylevel': 0.08301918486438858, 'depth': 6, 'boosting_type': 'Ordered', 'bootstrap_type': 'MVS'}. Best is trial 141 with value: 0.7902319902319903.\n",
      "[I 2024-02-14 17:57:11,501] Trial 170 finished with value: 0.6846580129033398 and parameters: {'colsample_bylevel': 0.08251685605739767, 'depth': 6, 'boosting_type': 'Ordered', 'bootstrap_type': 'Bayesian', 'bagging_temperature': 3.6924839257017266}. Best is trial 141 with value: 0.7902319902319903.\n",
      "[I 2024-02-14 17:57:11,988] Trial 171 finished with value: 0.7256998320828107 and parameters: {'colsample_bylevel': 0.07424288117030363, 'depth': 6, 'boosting_type': 'Ordered', 'bootstrap_type': 'MVS'}. Best is trial 141 with value: 0.7902319902319903.\n",
      "[I 2024-02-14 17:57:12,579] Trial 172 finished with value: 0.7256998320828107 and parameters: {'colsample_bylevel': 0.08761355234421994, 'depth': 6, 'boosting_type': 'Ordered', 'bootstrap_type': 'MVS'}. Best is trial 141 with value: 0.7902319902319903.\n",
      "[I 2024-02-14 17:57:13,235] Trial 173 finished with value: 0.7572682636512424 and parameters: {'colsample_bylevel': 0.08418484733767337, 'depth': 7, 'boosting_type': 'Ordered', 'bootstrap_type': 'MVS'}. Best is trial 141 with value: 0.7902319902319903.\n",
      "[I 2024-02-14 17:57:15,691] Trial 174 finished with value: 0.7256998320828107 and parameters: {'colsample_bylevel': 0.09242974960827287, 'depth': 12, 'boosting_type': 'Ordered', 'bootstrap_type': 'MVS'}. Best is trial 141 with value: 0.7902319902319903.\n",
      "[I 2024-02-14 17:57:18,118] Trial 175 finished with value: 0.7762163653579648 and parameters: {'colsample_bylevel': 0.0940478800834971, 'depth': 11, 'boosting_type': 'Ordered', 'bootstrap_type': 'MVS'}. Best is trial 141 with value: 0.7902319902319903.\n",
      "[I 2024-02-14 17:57:19,061] Trial 176 finished with value: 0.7945502269709416 and parameters: {'colsample_bylevel': 0.08928043914152614, 'depth': 8, 'boosting_type': 'Ordered', 'bootstrap_type': 'MVS'}. Best is trial 176 with value: 0.7945502269709416.\n",
      "[I 2024-02-14 17:57:19,698] Trial 177 finished with value: 0.7449952237919957 and parameters: {'colsample_bylevel': 0.07714999886016959, 'depth': 8, 'boosting_type': 'Ordered', 'bootstrap_type': 'MVS'}. Best is trial 176 with value: 0.7945502269709416.\n",
      "[I 2024-02-14 17:57:20,552] Trial 178 finished with value: 0.7572682636512424 and parameters: {'colsample_bylevel': 0.091280105772987, 'depth': 7, 'boosting_type': 'Ordered', 'bootstrap_type': 'Bernoulli', 'subsample': 0.5471152143670012}. Best is trial 176 with value: 0.7945502269709416.\n",
      "[I 2024-02-14 17:57:21,298] Trial 179 finished with value: 0.7621256038647344 and parameters: {'colsample_bylevel': 0.08109109536651225, 'depth': 8, 'boosting_type': 'Ordered', 'bootstrap_type': 'MVS'}. Best is trial 176 with value: 0.7945502269709416.\n",
      "[I 2024-02-14 17:57:22,674] Trial 180 finished with value: 0.7434604376133612 and parameters: {'colsample_bylevel': 0.09673297374457435, 'depth': 9, 'boosting_type': 'Ordered', 'bootstrap_type': 'MVS'}. Best is trial 176 with value: 0.7945502269709416.\n",
      "[I 2024-02-14 17:57:24,166] Trial 181 finished with value: 0.7449952237919957 and parameters: {'colsample_bylevel': 0.0885455525183419, 'depth': 10, 'boosting_type': 'Ordered', 'bootstrap_type': 'MVS'}. Best is trial 176 with value: 0.7945502269709416.\n",
      "[I 2024-02-14 17:57:26,496] Trial 182 finished with value: 0.7636261824619913 and parameters: {'colsample_bylevel': 0.09101062796904658, 'depth': 12, 'boosting_type': 'Ordered', 'bootstrap_type': 'MVS'}. Best is trial 176 with value: 0.7945502269709416.\n",
      "[I 2024-02-14 17:57:27,263] Trial 183 finished with value: 0.7375990439820227 and parameters: {'colsample_bylevel': 0.0896086285910933, 'depth': 7, 'boosting_type': 'Ordered', 'bootstrap_type': 'MVS'}. Best is trial 176 with value: 0.7945502269709416.\n",
      "[I 2024-02-14 17:57:28,923] Trial 184 finished with value: 0.7572682636512424 and parameters: {'colsample_bylevel': 0.08738051525201497, 'depth': 11, 'boosting_type': 'Ordered', 'bootstrap_type': 'MVS'}. Best is trial 176 with value: 0.7945502269709416.\n",
      "[I 2024-02-14 17:57:31,644] Trial 185 finished with value: 0.7572682636512424 and parameters: {'colsample_bylevel': 0.0935691149302451, 'depth': 12, 'boosting_type': 'Ordered', 'bootstrap_type': 'MVS'}. Best is trial 176 with value: 0.7945502269709416.\n",
      "[I 2024-02-14 17:57:33,194] Trial 186 finished with value: 0.7636261824619913 and parameters: {'colsample_bylevel': 0.08439237298647488, 'depth': 11, 'boosting_type': 'Ordered', 'bootstrap_type': 'MVS'}. Best is trial 176 with value: 0.7945502269709416.\n",
      "[I 2024-02-14 17:57:33,779] Trial 187 finished with value: 0.7636261824619913 and parameters: {'colsample_bylevel': 0.08646614044970942, 'depth': 6, 'boosting_type': 'Ordered', 'bootstrap_type': 'MVS'}. Best is trial 176 with value: 0.7945502269709416.\n",
      "[I 2024-02-14 17:57:34,330] Trial 188 finished with value: 0.7762163653579648 and parameters: {'colsample_bylevel': 0.09507975307041015, 'depth': 5, 'boosting_type': 'Ordered', 'bootstrap_type': 'MVS'}. Best is trial 176 with value: 0.7945502269709416.\n",
      "[I 2024-02-14 17:57:36,819] Trial 189 finished with value: 0.7762163653579648 and parameters: {'colsample_bylevel': 0.08940106537642661, 'depth': 12, 'boosting_type': 'Ordered', 'bootstrap_type': 'MVS'}. Best is trial 176 with value: 0.7945502269709416.\n",
      "[I 2024-02-14 17:57:37,170] Trial 190 finished with value: 0.7073507945688398 and parameters: {'colsample_bylevel': 0.09269702095810019, 'depth': 11, 'boosting_type': 'Plain', 'bootstrap_type': 'MVS'}. Best is trial 176 with value: 0.7945502269709416.\n",
      "[I 2024-02-14 17:57:38,084] Trial 191 finished with value: 0.7762163653579648 and parameters: {'colsample_bylevel': 0.08006268907781466, 'depth': 12, 'boosting_type': 'Ordered', 'bootstrap_type': 'MVS'}. Best is trial 176 with value: 0.7945502269709416.\n",
      "[I 2024-02-14 17:57:39,578] Trial 192 finished with value: 0.7621256038647344 and parameters: {'colsample_bylevel': 0.08086927864883992, 'depth': 12, 'boosting_type': 'Ordered', 'bootstrap_type': 'MVS'}. Best is trial 176 with value: 0.7945502269709416.\n",
      "[I 2024-02-14 17:57:40,553] Trial 193 finished with value: 0.7498274833742826 and parameters: {'colsample_bylevel': 0.07918432612352362, 'depth': 12, 'boosting_type': 'Ordered', 'bootstrap_type': 'MVS'}. Best is trial 176 with value: 0.7945502269709416.\n",
      "[I 2024-02-14 17:57:42,214] Trial 194 finished with value: 0.7449952237919957 and parameters: {'colsample_bylevel': 0.08283292385391307, 'depth': 12, 'boosting_type': 'Ordered', 'bootstrap_type': 'MVS'}. Best is trial 176 with value: 0.7945502269709416.\n",
      "[I 2024-02-14 17:57:44,496] Trial 195 finished with value: 0.7658108377025012 and parameters: {'colsample_bylevel': 0.09162679726133378, 'depth': 12, 'boosting_type': 'Ordered', 'bootstrap_type': 'MVS'}. Best is trial 176 with value: 0.7945502269709416.\n",
      "[I 2024-02-14 17:57:45,750] Trial 196 finished with value: 0.7572682636512424 and parameters: {'colsample_bylevel': 0.08931777573620929, 'depth': 9, 'boosting_type': 'Ordered', 'bootstrap_type': 'MVS'}. Best is trial 176 with value: 0.7945502269709416.\n",
      "[I 2024-02-14 17:57:47,603] Trial 197 finished with value: 0.7056291620121407 and parameters: {'colsample_bylevel': 0.08545742267318786, 'depth': 11, 'boosting_type': 'Ordered', 'bootstrap_type': 'Bernoulli', 'subsample': 0.33493986975541684}. Best is trial 176 with value: 0.7945502269709416.\n",
      "[I 2024-02-14 17:57:48,911] Trial 198 finished with value: 0.7449952237919957 and parameters: {'colsample_bylevel': 0.07577182886978788, 'depth': 11, 'boosting_type': 'Ordered', 'bootstrap_type': 'MVS'}. Best is trial 176 with value: 0.7945502269709416.\n",
      "[I 2024-02-14 17:57:49,226] Trial 199 finished with value: 0.7056291620121407 and parameters: {'colsample_bylevel': 0.03984203303003014, 'depth': 8, 'boosting_type': 'Ordered', 'bootstrap_type': 'MVS'}. Best is trial 176 with value: 0.7945502269709416.\n"
     ]
    },
    {
     "name": "stdout",
     "output_type": "stream",
     "text": [
      "Number of finished trials: 200\n",
      "Best trial:\n",
      "  Value: 0.7945502269709416\n",
      "  Params: \n",
      "    colsample_bylevel: 0.08928043914152614\n",
      "    depth: 8\n",
      "    boosting_type: Ordered\n",
      "    bootstrap_type: MVS\n"
     ]
    }
   ],
   "source": [
    "def objective(trial):\n",
    "    param = {\n",
    "        \"colsample_bylevel\": trial.suggest_float(\"colsample_bylevel\", 0.01, 0.1),\n",
    "        \"depth\": trial.suggest_int(\"depth\", 1, 12),\n",
    "        \"boosting_type\": trial.suggest_categorical(\n",
    "            \"boosting_type\", [\"Ordered\", \"Plain\"]\n",
    "        ),\n",
    "        \"bootstrap_type\": trial.suggest_categorical(\n",
    "            \"bootstrap_type\", [\"Bayesian\", \"Bernoulli\", \"MVS\"]\n",
    "        ),\n",
    "        \"used_ram_limit\": \"4gb\",\n",
    "    }\n",
    "\n",
    "    if param[\"bootstrap_type\"] == \"Bayesian\":\n",
    "        param[\"bagging_temperature\"] = trial.suggest_float(\"bagging_temperature\", 0, 10)\n",
    "    elif param[\"bootstrap_type\"] == \"Bernoulli\":\n",
    "        param[\"subsample\"] = trial.suggest_float(\"subsample\", 0.1, 1)\n",
    "\n",
    "    gbm = cb.CatBoostClassifier(**param, verbose=False, loss_function=\"MultiClass\")\n",
    "\n",
    "    gbm.fit(train_x, train_y)\n",
    "\n",
    "    preds = gbm.predict(valid_x)\n",
    "    pred_labels = np.rint(preds)\n",
    "    f1 = f1_score(valid_y, pred_labels, average=\"weighted\")\n",
    "    return f1\n",
    "\n",
    "\n",
    "study = optuna.create_study(direction=\"maximize\")\n",
    "study.optimize(objective, n_trials=200, timeout=600)\n",
    "\n",
    "print(\"Number of finished trials: {}\".format(len(study.trials)))\n",
    "\n",
    "print(\"Best trial:\")\n",
    "trial = study.best_trial\n",
    "\n",
    "print(\"  Value: {}\".format(trial.value))\n",
    "\n",
    "print(\"  Params: \")\n",
    "for key, value in trial.params.items():\n",
    "    print(\"    {}: {}\".format(key, value))"
   ]
  },
  {
   "cell_type": "code",
   "execution_count": 6,
   "metadata": {},
   "outputs": [
    {
     "data": {
      "text/plain": [
       "<Axes: >"
      ]
     },
     "execution_count": 6,
     "metadata": {},
     "output_type": "execute_result"
    },
    {
     "data": {
      "image/png": "[encoded data removed]",
      "text/plain": [
       "<Figure size 640x480 with 2 Axes>"
      ]
     },
     "metadata": {},
     "output_type": "display_data"
    }
   ],
   "source": [
    "import seaborn as sns\n",
    "from sklearn.metrics import confusion_matrix\n",
    "\n",
    "gbm = cb.CatBoostClassifier(**trial.params, verbose=False, loss_function=\"MultiClass\")\n",
    "# gbm = OneVsOneClassifier(estimator=cb.CatBoostClassifier(**trial.params, verbose=False))\n",
    "gbm.fit(train_x, train_y)\n",
    "\n",
    "preds = gbm.predict(valid_x)\n",
    "pred_labels = np.rint(preds)\n",
    "\n",
    "sns.heatmap(confusion_matrix(pred_labels, valid_y), annot=True, cmap=\"summer\")"
   ]
  },
  {
   "cell_type": "code",
   "execution_count": 7,
   "metadata": {},
   "outputs": [
    {
     "name": "stdout",
     "output_type": "stream",
     "text": [
      "Accuracy: 0.8\n",
      "Classification Report:\n",
      "               precision    recall  f1-score   support\n",
      "\n",
      "          -1       0.86      0.96      0.91        25\n",
      "           0       0.64      0.56      0.60        16\n",
      "           1       0.83      0.79      0.81        24\n",
      "\n",
      "    accuracy                           0.80        65\n",
      "   macro avg       0.78      0.77      0.77        65\n",
      "weighted avg       0.79      0.80      0.79        65\n",
      "\n"
     ]
    }
   ],
   "source": [
    "# Make predictions on the test set\n",
    "from sklearn.metrics import classification_report\n",
    "\n",
    "y_pred = gbm.predict(valid_x)\n",
    "\n",
    "# Evaluate the model\n",
    "accuracy = accuracy_score(valid_y, y_pred)\n",
    "report = classification_report(valid_y, y_pred)\n",
    "# printing metrics\n",
    "print(f\"Accuracy: {accuracy}\")\n",
    "print(\"Classification Report:\\n\", report)"
   ]
  },
  {
   "cell_type": "code",
   "execution_count": 8,
   "metadata": {},
   "outputs": [],
   "source": [
    "import matplotlib.pyplot as plt\n",
    "import pandas as pd\n",
    "\n",
    "def plot_feature_importance(importance,names,model_type):\n",
    "    \n",
    "    #Create arrays from feature importance and feature names\n",
    "    feature_importance = np.array(importance)\n",
    "    feature_names = np.array(names)\n",
    "    \n",
    "    #Create a DataFrame using a Dictionary\n",
    "    data={'feature_names':feature_names,'feature_importance':feature_importance}\n",
    "    fi_df = pd.DataFrame(data)\n",
    "    \n",
    "    #Sort the DataFrame in order decreasing feature importance\n",
    "    fi_df.sort_values(by=['feature_importance'], ascending=False,inplace=True)\n",
    "    \n",
    "    #Define size of bar plot\n",
    "    plt.figure(figsize=(10,8))\n",
    "    #Plot Searborn bar chart\n",
    "    sns.barplot(x=fi_df['feature_importance'], y=fi_df['feature_names'])\n",
    "    #Add chart labels\n",
    "    plt.title(model_type + 'FEATURE IMPORTANCE')\n",
    "    plt.xlabel('FEATURE IMPORTANCE')\n",
    "    plt.ylabel('FEATURE NAMES')"
   ]
  },
  {
   "cell_type": "code",
   "execution_count": 9,
   "metadata": {},
   "outputs": [
    {
     "data": {
      "image/png": "[encoded data removed]",
      "text/plain": [
       "<Figure size 1000x800 with 1 Axes>"
      ]
     },
     "metadata": {},
     "output_type": "display_data"
    }
   ],
   "source": [
    "plot_feature_importance(gbm.get_feature_importance(), data.columns, \"CATBOOST\")"
   ]
  },
  {
   "cell_type": "code",
   "execution_count": 10,
   "metadata": {},
   "outputs": [],
   "source": [
    "# # Convert into ONNX format.\n",
    "# from skl2onnx import to_onnx\n",
    "\n",
    "# data, target = load_dataset()\n",
    "# train_x, valid_x, train_y, valid_y = train_test_split(\n",
    "#     data, target, test_size=0.2, stratify=target\n",
    "# )\n",
    "\n",
    "\n",
    "# onx = to_onnx(gbm, data[:1].to_numpy())\n",
    "# with open(\"rf_iris.onnx\", \"wb\") as f:\n",
    "#     f.write(onx.SerializeToString())\n",
    "\n",
    "# # Compute the prediction with onnxruntime.\n",
    "# import onnxruntime as rt\n",
    "\n",
    "# sess = rt.InferenceSession(\"rf_iris.onnx\", providers=[\"CPUExecutionProvider\"])\n",
    "# input_name = sess.get_inputs()[0].name\n",
    "# label_name = sess.get_outputs()[0].name\n",
    "# pred_onx = sess.run([label_name], {input_name: valid_x.astype(np.float32)})[0]"
   ]
  },
  {
   "cell_type": "code",
   "execution_count": 11,
   "metadata": {},
   "outputs": [],
   "source": [
    "import joblib\n",
    "\n",
    "catboost_model_name = f\"catboost_model{accuracy:.2f}.pkl\"\n",
    "\n",
    "joblib.dump(gbm, catboost_model_name)\n",
    "\n",
    "model = joblib.load(catboost_model_name)"
   ]
  },
  {
   "cell_type": "code",
   "execution_count": 12,
   "metadata": {},
   "outputs": [
    {
     "name": "stdout",
     "output_type": "stream",
     "text": [
      "Accuracy: 0.8\n",
      "Classification Report:\n",
      "               precision    recall  f1-score   support\n",
      "\n",
      "          -1       0.86      0.96      0.91        25\n",
      "           0       0.64      0.56      0.60        16\n",
      "           1       0.83      0.79      0.81        24\n",
      "\n",
      "    accuracy                           0.80        65\n",
      "   macro avg       0.78      0.77      0.77        65\n",
      "weighted avg       0.79      0.80      0.79        65\n",
      "\n"
     ]
    }
   ],
   "source": [
    "from sklearn.metrics import classification_report\n",
    "\n",
    "y_pred = model.predict(valid_x)\n",
    "\n",
    "# Evaluate the model\n",
    "accuracy = accuracy_score(valid_y, y_pred)\n",
    "report = classification_report(valid_y, y_pred)\n",
    "# printing metrics\n",
    "print(f\"Accuracy: {accuracy}\")\n",
    "print(\"Classification Report:\\n\", report)"
   ]
  },
  {
   "cell_type": "markdown",
   "metadata": {},
   "source": [
    "Prev:\n",
    "Accuracy: 0.8490566037735849\n",
    "Classification Report:\n",
    "               precision    recall  f1-score   support\n",
    "\n",
    "          -1       0.91      0.95      0.93        21\n",
    "           0       0.73      0.62      0.67        13\n",
    "           1       0.85      0.89      0.87        19\n",
    "\n",
    "    accuracy                           0.85        53\n",
    "   macro avg       0.83      0.82      0.82        53\n",
    "weighted avg       0.84      0.85      0.84        53"
   ]
  },
  {
   "cell_type": "code",
   "execution_count": 14,
   "metadata": {},
   "outputs": [],
   "source": [
    "from sklearn.pipeline import Pipeline, make_pipeline\n",
    "\n",
    "pipeline = make_pipeline(scaler, gbm)"
   ]
  },
  {
   "cell_type": "code",
   "execution_count": 15,
   "metadata": {},
   "outputs": [],
   "source": [
    "catboost_model_name = f\"catboost_model{accuracy:.2f}_pipeline.pkl\"\n",
    "\n",
    "joblib.dump(pipeline, catboost_model_name)\n",
    "\n",
    "model = joblib.load(catboost_model_name)"
   ]
  },
  {
   "cell_type": "code",
   "execution_count": null,
   "metadata": {},
   "outputs": [],
   "source": []
  }
 ],
 "metadata": {
  "kernelspec": {
   "display_name": "cs",
   "language": "python",
   "name": "python3"
  },
  "language_info": {
   "codemirror_mode": {
    "name": "ipython",
    "version": 3
   },
   "file_extension": ".py",
   "mimetype": "text/x-python",
   "name": "python",
   "nbconvert_exporter": "python",
   "pygments_lexer": "ipython3",
   "version": "3.11.3"
  }
 },
 "nbformat": 4,
 "nbformat_minor": 2
}
